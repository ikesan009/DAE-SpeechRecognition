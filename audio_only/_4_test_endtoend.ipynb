{
 "cells": [
  {
   "cell_type": "code",
   "execution_count": 5,
   "metadata": {},
   "outputs": [
    {
     "name": "stdout",
     "output_type": "stream",
     "text": [
      "*** model has been successfully loaded! ***\n",
      "Load train part\n",
      "Load val part\n",
      "Load test part\n",
      "\n",
      "Statistics: train: 4959, val: 250, test: 250\n",
      "main.py:93: UserWarning: volatile was removed and now has no effect. Use `with torch.no_grad():` instead.\n",
      "  inputs, targets = Variable(inputs.cuda(), volatile=True), Variable(targets.cuda())\n",
      "main.py:109: UserWarning: invalid index of a 0-dim tensor. This will be an error in PyTorch 0.5. Use tensor.item() to convert a 0-dim tensor to a Python number\n",
      "  running_loss += loss.data[0] * inputs.size(0)\n",
      "Process: [  250/  250 (100%)]\tLoss: 0.1221\tAcc:0.0000\tCost time:    2s\tEstimated time:   -0s\n",
      "val Epoch:\t 0\tLoss: 0.1221\tAcc:0.0000\n",
      "\n",
      "Process: [  250/  250 (100%)]\tLoss: 0.1656\tAcc:0.0000\tCost time:    2s\tEstimated time:   -0s\n",
      "test Epoch:\t 0\tLoss: 0.1656\tAcc:0.0000\n",
      "\n"
     ]
    }
   ],
   "source": [
    "python main.py \\\n",
    "    --nClasses 5 \\\n",
    "    --path './finetuneGRU_every_frame/finetuneGRU_30.pt' \\\n",
    "    --dataset './lipread_npy/' \\\n",
    "    --mode 'finetuneGRU' \\\n",
    "    --every-frame 'True' \\\n",
    "    --batch-size 25 \\\n",
    "    --lr 3e-4 \\\n",
    "    --epochs 0 \\\n",
    "    --test 'True'"
   ]
  }
 ],
 "metadata": {
  "kernelspec": {
   "display_name": "Bash",
   "language": "bash",
   "name": "bash"
  },
  "language_info": {
   "codemirror_mode": "shell",
   "file_extension": ".sh",
   "mimetype": "text/x-sh",
   "name": "bash"
  }
 },
 "nbformat": 4,
 "nbformat_minor": 2
}
